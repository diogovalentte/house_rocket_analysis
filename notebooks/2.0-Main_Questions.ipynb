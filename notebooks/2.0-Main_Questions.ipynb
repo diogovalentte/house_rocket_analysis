{
 "cells": [
  {
   "cell_type": "markdown",
   "metadata": {},
   "source": [
    "# Answering the CEO's Three Questions\n",
    "\n",
    "### In this section we will answer the three main questions:\n",
    "\n",
    "1. Which houses should the House Rocket buy and by which  price?\n",
    "2. Once the houses are bought, for what price should they be sold?\n",
    "3. What is the best time of the year to sell the houses?\n",
    "4. The House Rocket should do renovate the houses to increase the selling price? What parts of the houses should the House Rocket renovate? What is the price increase given for each renovation option?"
   ]
  },
  {
   "cell_type": "code",
   "execution_count": 7,
   "metadata": {},
   "outputs": [],
   "source": [
    "import os\n",
    "import pandas as pd\n",
    "import seaborn as sns\n",
    "from notebooks.get_local_folder import get_local_folder"
   ]
  },
  {
   "cell_type": "markdown",
   "metadata": {},
   "source": [
    "## Question 1: Which houses should the House Rocket buy and by which  price?\n",
    "\n",
    "### We are going to add two new columns to the dataset:\n",
    "1. \"Median Price ID\": contains the median price of houses per ZipCode.\n",
    "2. \"Status\": contains the information whether or not to buy the house based on the following conditions:\n",
    "    * Based on the insights from the notebook \"0.1-Data_Exploration.ipynb\", places with grade of variable \"Gride\" equal or greater than 8.\n",
    "    * Houses with condition equal to or greater than 3.\n",
    "    * Houses priced below the median price for their region (the \"Median Price ID\" column).\n",
    "\n",
    "##### Note: We are going to use the dataset with outliers, because if a region has houses well above the average, they will influence the median price of houses in the region. "
   ]
  },
  {
   "cell_type": "code",
   "execution_count": 65,
   "metadata": {},
   "outputs": [],
   "source": [
    "# Load data\n",
    "abs_path_to_folder = get_local_folder()\n",
    "dataset_path = os.path.join(abs_path_to_folder, \"../data/cleaned/houses_data.parquet\")\n",
    "houses = pd.read_parquet(dataset_path)"
   ]
  },
  {
   "cell_type": "code",
   "execution_count": 66,
   "metadata": {},
   "outputs": [],
   "source": [
    "media_price_by_zipcode = houses[['Price','ZipCode']].groupby('ZipCode').median().reset_index()\n",
    "media_price_by_zipcode.rename(columns = {'Price':'Median Price ZipCode'}, inplace = True)\n",
    "houses = pd.merge(houses, media_price_by_zipcode, on='ZipCode', how='inner')\n",
    "\n",
    "\n",
    "houses['Status'] = 'Dont Buy'\n",
    "houses.loc[ ( houses['Price'] <= houses['Median Price ZipCode'] ) & \n",
    "( houses['Condition'] >= 3 ) & \n",
    "( houses['Grade'] >= 8 ), 'Status' ] = 'Buy'"
   ]
  },
  {
   "cell_type": "code",
   "execution_count": 67,
   "metadata": {},
   "outputs": [
    {
     "data": {
      "text/html": [
       "<div>\n",
       "<style scoped>\n",
       "    .dataframe tbody tr th:only-of-type {\n",
       "        vertical-align: middle;\n",
       "    }\n",
       "\n",
       "    .dataframe tbody tr th {\n",
       "        vertical-align: top;\n",
       "    }\n",
       "\n",
       "    .dataframe thead th {\n",
       "        text-align: right;\n",
       "    }\n",
       "</style>\n",
       "<table border=\"1\" class=\"dataframe\">\n",
       "  <thead>\n",
       "    <tr style=\"text-align: right;\">\n",
       "      <th></th>\n",
       "      <th>ID</th>\n",
       "      <th>Price</th>\n",
       "      <th>ZipCode</th>\n",
       "      <th>Median Price ZipCode</th>\n",
       "      <th>Status</th>\n",
       "    </tr>\n",
       "  </thead>\n",
       "  <tbody>\n",
       "    <tr>\n",
       "      <th>0</th>\n",
       "      <td>7129300520</td>\n",
       "      <td>221900.0</td>\n",
       "      <td>98178</td>\n",
       "      <td>278277.0</td>\n",
       "      <td>Dont Buy</td>\n",
       "    </tr>\n",
       "    <tr>\n",
       "      <th>1</th>\n",
       "      <td>4060000240</td>\n",
       "      <td>205425.0</td>\n",
       "      <td>98178</td>\n",
       "      <td>278277.0</td>\n",
       "      <td>Dont Buy</td>\n",
       "    </tr>\n",
       "    <tr>\n",
       "      <th>2</th>\n",
       "      <td>4058801670</td>\n",
       "      <td>445000.0</td>\n",
       "      <td>98178</td>\n",
       "      <td>278277.0</td>\n",
       "      <td>Dont Buy</td>\n",
       "    </tr>\n",
       "    <tr>\n",
       "      <th>3</th>\n",
       "      <td>2976800796</td>\n",
       "      <td>236000.0</td>\n",
       "      <td>98178</td>\n",
       "      <td>278277.0</td>\n",
       "      <td>Dont Buy</td>\n",
       "    </tr>\n",
       "    <tr>\n",
       "      <th>4</th>\n",
       "      <td>6874200960</td>\n",
       "      <td>170000.0</td>\n",
       "      <td>98178</td>\n",
       "      <td>278277.0</td>\n",
       "      <td>Dont Buy</td>\n",
       "    </tr>\n",
       "  </tbody>\n",
       "</table>\n",
       "</div>"
      ],
      "text/plain": [
       "           ID     Price  ZipCode  Median Price ZipCode    Status\n",
       "0  7129300520  221900.0    98178              278277.0  Dont Buy\n",
       "1  4060000240  205425.0    98178              278277.0  Dont Buy\n",
       "2  4058801670  445000.0    98178              278277.0  Dont Buy\n",
       "3  2976800796  236000.0    98178              278277.0  Dont Buy\n",
       "4  6874200960  170000.0    98178              278277.0  Dont Buy"
      ]
     },
     "execution_count": 67,
     "metadata": {},
     "output_type": "execute_result"
    }
   ],
   "source": [
    "houses[[\"ID\", \"Price\", \"ZipCode\", \"Median Price ZipCode\", \"Status\"]].head()"
   ]
  },
  {
   "cell_type": "markdown",
   "metadata": {},
   "source": [
    "### The chart bellow compares the median price of homes categorized as \"Buy\" and \"Dont Buy\"."
   ]
  },
  {
   "cell_type": "code",
   "execution_count": 68,
   "metadata": {},
   "outputs": [
    {
     "data": {
      "text/plain": [
       "<Axes: xlabel='Status', ylabel='Price'>"
      ]
     },
     "execution_count": 68,
     "metadata": {},
     "output_type": "execute_result"
    },
    {
     "data": {
      "image/png": "[encoded data removed]",
      "text/plain": [
       "<Figure size 640x480 with 1 Axes>"
      ]
     },
     "metadata": {},
     "output_type": "display_data"
    }
   ],
   "source": [
    "median_price_status = houses[['Price','Status']].groupby('Status').mean().reset_index()\n",
    "sns.barplot(data=median_price_status, y='Price', x='Status')"
   ]
  },
  {
   "cell_type": "markdown",
   "metadata": {},
   "source": [
    "## Question 2: Once the houses are bought, for what price should they be sold?\n",
    "\n",
    "Now that we have a new dataset of homes to buy, let's assume that House Rocket has purchased all homes with \"Buy\" Status, let's calculate their ideal resale price for each house.\n",
    "\n",
    "First, let's create a new column called \"Season\", which will contain the season that the house became available for purchase. Then let's create a dataset with the median price per season.\n",
    "\n",
    "**Note**: we will use the dataset without outliers, because if in a certain season outlier houses become available, it will influence the price of an entire season."
   ]
  },
  {
   "cell_type": "code",
   "execution_count": 62,
   "metadata": {},
   "outputs": [],
   "source": [
    "houses_wo = pd.read_parquet(os.path.join(abs_path_to_folder, \"../data/without_outliers/houses_without_outliers.parquet\"))"
   ]
  },
  {
   "cell_type": "code",
   "execution_count": 63,
   "metadata": {},
   "outputs": [
    {
     "name": "stderr",
     "output_type": "stream",
     "text": [
      "/tmp/ipykernel_1097/665452922.py:6: UserWarning: Parsing dates in DD/MM/YYYY format when dayfirst=False (the default) was specified. This may lead to inconsistently parsed dates! Specify a format to ensure consistent parsing.\n",
      "  df['Month'] = pd.to_datetime(df['Date']).dt.strftime('%m')\n"
     ]
    }
   ],
   "source": [
    "def create_season_column(df: pd.DataFrame):\n",
    "    \"\"\"Create a new colunm named \"Season\", which contains the season based in the \"Date\" colunm\"\"\"\n",
    "    import pandas as pd\n",
    "    import numpy as np\n",
    "\n",
    "    df['Month'] = pd.to_datetime(df['Date']).dt.strftime('%m')\n",
    "    df['Month'] = df['Month'].astype(np.int64)\n",
    "\n",
    "\n",
    "    df['Season'] = 'Winter'\n",
    "    df.loc[(df['Month'] >= 3) & (df['Month'] < 6), 'Season'] = 'Spring'\n",
    "    df.loc[(df['Month'] >= 6) & (df['Month'] < 9), 'Season'] = 'Summer'\n",
    "    df.loc[(df['Month'] >= 9) & (df['Month'] < 12), 'Season'] = 'Fall'\n",
    "\n",
    "    return df.drop(columns=\"Month\")\n",
    "\n",
    "houses_wo = create_season_column(houses_wo[['Price','Date']].copy())\n",
    "mean_price_by_season = houses_wo[['Price','Season']].groupby('Season').mean().reset_index()\n",
    "mean_price_by_season.columns = ['Season','Median Price Season']"
   ]
  },
  {
   "cell_type": "markdown",
   "metadata": {},
   "source": [
    "Mean price by season:"
   ]
  },
  {
   "cell_type": "code",
   "execution_count": 64,
   "metadata": {},
   "outputs": [
    {
     "data": {
      "text/html": [
       "<div>\n",
       "<style scoped>\n",
       "    .dataframe tbody tr th:only-of-type {\n",
       "        vertical-align: middle;\n",
       "    }\n",
       "\n",
       "    .dataframe tbody tr th {\n",
       "        vertical-align: top;\n",
       "    }\n",
       "\n",
       "    .dataframe thead th {\n",
       "        text-align: right;\n",
       "    }\n",
       "</style>\n",
       "<table border=\"1\" class=\"dataframe\">\n",
       "  <thead>\n",
       "    <tr style=\"text-align: right;\">\n",
       "      <th></th>\n",
       "      <th>Season</th>\n",
       "      <th>Median Price Season</th>\n",
       "    </tr>\n",
       "  </thead>\n",
       "  <tbody>\n",
       "    <tr>\n",
       "      <th>0</th>\n",
       "      <td>Fall</td>\n",
       "      <td>503448.8</td>\n",
       "    </tr>\n",
       "    <tr>\n",
       "      <th>1</th>\n",
       "      <td>Spring</td>\n",
       "      <td>514740.8</td>\n",
       "    </tr>\n",
       "    <tr>\n",
       "      <th>2</th>\n",
       "      <td>Summer</td>\n",
       "      <td>511177.0</td>\n",
       "    </tr>\n",
       "    <tr>\n",
       "      <th>3</th>\n",
       "      <td>Winter</td>\n",
       "      <td>504649.9</td>\n",
       "    </tr>\n",
       "  </tbody>\n",
       "</table>\n",
       "</div>"
      ],
      "text/plain": [
       "   Season  Median Price Season\n",
       "0    Fall             503448.8\n",
       "1  Spring             514740.8\n",
       "2  Summer             511177.0\n",
       "3  Winter             504649.9"
      ]
     },
     "execution_count": 64,
     "metadata": {},
     "output_type": "execute_result"
    }
   ],
   "source": [
    "mean_price_by_season.round(1)"
   ]
  },
  {
   "cell_type": "markdown",
   "metadata": {},
   "source": [
    "Now with the dataset with only the houses purchased by House Rocket, let's create a new column \"Average Total Price\", which contains the average of the following values: \n",
    "* Median price of the region (ZipCode).\n",
    "* Average price of the season that the house became available for purchase."
   ]
  },
  {
   "cell_type": "code",
   "execution_count": 69,
   "metadata": {},
   "outputs": [
    {
     "name": "stderr",
     "output_type": "stream",
     "text": [
      "/tmp/ipykernel_1097/665452922.py:6: UserWarning: Parsing dates in DD/MM/YYYY format when dayfirst=False (the default) was specified. This may lead to inconsistently parsed dates! Specify a format to ensure consistent parsing.\n",
      "  df['Month'] = pd.to_datetime(df['Date']).dt.strftime('%m')\n"
     ]
    }
   ],
   "source": [
    "houses = houses.loc[houses['Status'] == 'Buy']\n",
    "houses = create_season_column(houses.copy())\n",
    "houses = pd.merge(houses, mean_price_by_season, on='Season', how='inner')\n",
    "\n",
    "houses['Total Avarage Price'] = ((houses['Median Price ZipCode'] + houses['Median Price Season']) / 2)\n",
    "houses = houses.round(1).copy() # Remove notation"
   ]
  },
  {
   "cell_type": "markdown",
   "metadata": {},
   "source": [
    "### The dataset with the new columns looks like:"
   ]
  },
  {
   "cell_type": "code",
   "execution_count": 72,
   "metadata": {},
   "outputs": [
    {
     "data": {
      "text/html": [
       "<div>\n",
       "<style scoped>\n",
       "    .dataframe tbody tr th:only-of-type {\n",
       "        vertical-align: middle;\n",
       "    }\n",
       "\n",
       "    .dataframe tbody tr th {\n",
       "        vertical-align: top;\n",
       "    }\n",
       "\n",
       "    .dataframe thead th {\n",
       "        text-align: right;\n",
       "    }\n",
       "</style>\n",
       "<table border=\"1\" class=\"dataframe\">\n",
       "  <thead>\n",
       "    <tr style=\"text-align: right;\">\n",
       "      <th></th>\n",
       "      <th>ID</th>\n",
       "      <th>Price</th>\n",
       "      <th>ZipCode</th>\n",
       "      <th>Median Price ZipCode</th>\n",
       "      <th>Season</th>\n",
       "      <th>Median Price Season</th>\n",
       "      <th>Total Avarage Price</th>\n",
       "    </tr>\n",
       "  </thead>\n",
       "  <tbody>\n",
       "    <tr>\n",
       "      <th>0</th>\n",
       "      <td>3810000860</td>\n",
       "      <td>240000.0</td>\n",
       "      <td>98178</td>\n",
       "      <td>278277.0</td>\n",
       "      <td>Summer</td>\n",
       "      <td>511177.0</td>\n",
       "      <td>394727.0</td>\n",
       "    </tr>\n",
       "    <tr>\n",
       "      <th>1</th>\n",
       "      <td>3348401490</td>\n",
       "      <td>265000.0</td>\n",
       "      <td>98178</td>\n",
       "      <td>278277.0</td>\n",
       "      <td>Summer</td>\n",
       "      <td>511177.0</td>\n",
       "      <td>394727.0</td>\n",
       "    </tr>\n",
       "  </tbody>\n",
       "</table>\n",
       "</div>"
      ],
      "text/plain": [
       "           ID     Price  ZipCode  Median Price ZipCode  Season  \\\n",
       "0  3810000860  240000.0    98178              278277.0  Summer   \n",
       "1  3348401490  265000.0    98178              278277.0  Summer   \n",
       "\n",
       "   Median Price Season  Total Avarage Price  \n",
       "0             511177.0             394727.0  \n",
       "1             511177.0             394727.0  "
      ]
     },
     "execution_count": 72,
     "metadata": {},
     "output_type": "execute_result"
    }
   ],
   "source": [
    "houses[[\"ID\", \"Price\", \"ZipCode\", \"Median Price ZipCode\", \"Season\", \"Median Price Season\", \"Total Avarage Price\"]].head(2)"
   ]
  },
  {
   "cell_type": "markdown",
   "metadata": {},
   "source": [
    "Now let's create two new columns: \"Sale Price\" and \"Profit\".\n",
    "1. \"Sale Price\": the recommended selling price of the house, the price recommendation will be based on the following conditions:\n",
    "    - If the purchase price of the house is higher than the \"Total Avarage Price\", then the suggested selling price will be the purchase price + 10%.\n",
    "    - If the purchase price of the house is less than the \"Total Avarage Price\", then the suggested selling price will be the purchase price + 30%.\n",
    "2. \"Profit\": the profit from the resale of the house. It will be the difference between the sale price less the purchase value."
   ]
  },
  {
   "cell_type": "code",
   "execution_count": 73,
   "metadata": {},
   "outputs": [],
   "source": [
    "houses['Sale Price'] = 0.0 \n",
    "houses['Profit'] = 0.0\n",
    "\n",
    "houses.loc[ houses['Price'] > houses['Total Avarage Price'], 'Sale Price' ] = houses['Price'] * 1.1\n",
    "houses.loc[ houses['Price'] <= houses['Total Avarage Price'], 'Sale Price' ] = houses['Price'] * 1.3\n",
    "\n",
    "houses['Profit'] = houses['Sale Price'] - houses['Price']\n",
    "houses['Total Avarage Price'] = houses['Total Avarage Price'].round(1)"
   ]
  },
  {
   "cell_type": "markdown",
   "metadata": {},
   "source": [
    "### The final dataset looks like this:"
   ]
  },
  {
   "cell_type": "code",
   "execution_count": 75,
   "metadata": {},
   "outputs": [
    {
     "data": {
      "text/html": [
       "<div>\n",
       "<style scoped>\n",
       "    .dataframe tbody tr th:only-of-type {\n",
       "        vertical-align: middle;\n",
       "    }\n",
       "\n",
       "    .dataframe tbody tr th {\n",
       "        vertical-align: top;\n",
       "    }\n",
       "\n",
       "    .dataframe thead th {\n",
       "        text-align: right;\n",
       "    }\n",
       "</style>\n",
       "<table border=\"1\" class=\"dataframe\">\n",
       "  <thead>\n",
       "    <tr style=\"text-align: right;\">\n",
       "      <th></th>\n",
       "      <th>ID</th>\n",
       "      <th>Price</th>\n",
       "      <th>ZipCode</th>\n",
       "      <th>Median Price ZipCode</th>\n",
       "      <th>Season</th>\n",
       "      <th>Median Price Season</th>\n",
       "      <th>Total Avarage Price</th>\n",
       "      <th>Sale Price</th>\n",
       "      <th>Profit</th>\n",
       "    </tr>\n",
       "  </thead>\n",
       "  <tbody>\n",
       "    <tr>\n",
       "      <th>0</th>\n",
       "      <td>3810000860</td>\n",
       "      <td>240000.0</td>\n",
       "      <td>98178</td>\n",
       "      <td>278277.0</td>\n",
       "      <td>Summer</td>\n",
       "      <td>511177.0</td>\n",
       "      <td>394727.0</td>\n",
       "      <td>312000.0</td>\n",
       "      <td>72000.0</td>\n",
       "    </tr>\n",
       "    <tr>\n",
       "      <th>1</th>\n",
       "      <td>3348401490</td>\n",
       "      <td>265000.0</td>\n",
       "      <td>98178</td>\n",
       "      <td>278277.0</td>\n",
       "      <td>Summer</td>\n",
       "      <td>511177.0</td>\n",
       "      <td>394727.0</td>\n",
       "      <td>344500.0</td>\n",
       "      <td>79500.0</td>\n",
       "    </tr>\n",
       "    <tr>\n",
       "      <th>2</th>\n",
       "      <td>3992700036</td>\n",
       "      <td>415000.0</td>\n",
       "      <td>98125</td>\n",
       "      <td>425000.0</td>\n",
       "      <td>Summer</td>\n",
       "      <td>511177.0</td>\n",
       "      <td>468088.5</td>\n",
       "      <td>539500.0</td>\n",
       "      <td>124500.0</td>\n",
       "    </tr>\n",
       "    <tr>\n",
       "      <th>3</th>\n",
       "      <td>2926049449</td>\n",
       "      <td>384400.0</td>\n",
       "      <td>98125</td>\n",
       "      <td>425000.0</td>\n",
       "      <td>Summer</td>\n",
       "      <td>511177.0</td>\n",
       "      <td>468088.5</td>\n",
       "      <td>499720.0</td>\n",
       "      <td>115320.0</td>\n",
       "    </tr>\n",
       "    <tr>\n",
       "      <th>4</th>\n",
       "      <td>1787600165</td>\n",
       "      <td>396500.0</td>\n",
       "      <td>98125</td>\n",
       "      <td>425000.0</td>\n",
       "      <td>Summer</td>\n",
       "      <td>511177.0</td>\n",
       "      <td>468088.5</td>\n",
       "      <td>515450.0</td>\n",
       "      <td>118950.0</td>\n",
       "    </tr>\n",
       "  </tbody>\n",
       "</table>\n",
       "</div>"
      ],
      "text/plain": [
       "           ID     Price  ZipCode  Median Price ZipCode  Season  \\\n",
       "0  3810000860  240000.0    98178              278277.0  Summer   \n",
       "1  3348401490  265000.0    98178              278277.0  Summer   \n",
       "2  3992700036  415000.0    98125              425000.0  Summer   \n",
       "3  2926049449  384400.0    98125              425000.0  Summer   \n",
       "4  1787600165  396500.0    98125              425000.0  Summer   \n",
       "\n",
       "   Median Price Season  Total Avarage Price  Sale Price    Profit  \n",
       "0             511177.0             394727.0    312000.0   72000.0  \n",
       "1             511177.0             394727.0    344500.0   79500.0  \n",
       "2             511177.0             468088.5    539500.0  124500.0  \n",
       "3             511177.0             468088.5    499720.0  115320.0  \n",
       "4             511177.0             468088.5    515450.0  118950.0  "
      ]
     },
     "execution_count": 75,
     "metadata": {},
     "output_type": "execute_result"
    }
   ],
   "source": [
    "houses[[\"ID\", \"Price\", \"ZipCode\", \"Median Price ZipCode\", \"Season\", \"Median Price Season\", \"Total Avarage Price\", \"Sale Price\", \"Profit\"]].head() # First five rows"
   ]
  },
  {
   "cell_type": "markdown",
   "metadata": {},
   "source": [
    "## Question 3: What is the best time of the year to sell the houses?\n",
    "\n",
    "The answer to that question will be the best season to sell each house. But before answering it, let's look at the difference in the average price per season."
   ]
  },
  {
   "cell_type": "code",
   "execution_count": 76,
   "metadata": {},
   "outputs": [
    {
     "data": {
      "text/html": [
       "<div>\n",
       "<style scoped>\n",
       "    .dataframe tbody tr th:only-of-type {\n",
       "        vertical-align: middle;\n",
       "    }\n",
       "\n",
       "    .dataframe tbody tr th {\n",
       "        vertical-align: top;\n",
       "    }\n",
       "\n",
       "    .dataframe thead th {\n",
       "        text-align: right;\n",
       "    }\n",
       "</style>\n",
       "<table border=\"1\" class=\"dataframe\">\n",
       "  <thead>\n",
       "    <tr style=\"text-align: right;\">\n",
       "      <th></th>\n",
       "      <th>Season</th>\n",
       "      <th>Median Price Season</th>\n",
       "    </tr>\n",
       "  </thead>\n",
       "  <tbody>\n",
       "    <tr>\n",
       "      <th>0</th>\n",
       "      <td>Fall</td>\n",
       "      <td>503448.8</td>\n",
       "    </tr>\n",
       "    <tr>\n",
       "      <th>1</th>\n",
       "      <td>Spring</td>\n",
       "      <td>514740.8</td>\n",
       "    </tr>\n",
       "    <tr>\n",
       "      <th>2</th>\n",
       "      <td>Summer</td>\n",
       "      <td>511177.0</td>\n",
       "    </tr>\n",
       "    <tr>\n",
       "      <th>3</th>\n",
       "      <td>Winter</td>\n",
       "      <td>504649.9</td>\n",
       "    </tr>\n",
       "  </tbody>\n",
       "</table>\n",
       "</div>"
      ],
      "text/plain": [
       "   Season  Median Price Season\n",
       "0    Fall             503448.8\n",
       "1  Spring             514740.8\n",
       "2  Summer             511177.0\n",
       "3  Winter             504649.9"
      ]
     },
     "execution_count": 76,
     "metadata": {},
     "output_type": "execute_result"
    }
   ],
   "source": [
    "mean_price_by_season.round(1)"
   ]
  },
  {
   "cell_type": "markdown",
   "metadata": {},
   "source": [
    "After analyzing the above metrics, we can see that the difference between prices per season can reach $31,500, meaning the best season for sale is **spring**."
   ]
  },
  {
   "cell_type": "markdown",
   "metadata": {},
   "source": [
    "## Question 4: The House Rocket should do renovate the houses to increase the selling price? What parts of the houses should the House Rocket renovate?\n",
    "\n",
    "First, let's see if it's really worth renovating the houses, so let's compare the average price of the houses that were not renovated and those that were.\n",
    "\n",
    "**Note**: for this we will use the dataset without outliers, so that the outliers do not affect the analysis result."
   ]
  },
  {
   "cell_type": "code",
   "execution_count": 77,
   "metadata": {},
   "outputs": [],
   "source": [
    "houses_wo = pd.read_parquet(os.path.join(abs_path_to_folder, \"../data/without_outliers/houses_without_outliers.parquet\"))"
   ]
  },
  {
   "cell_type": "code",
   "execution_count": 78,
   "metadata": {},
   "outputs": [],
   "source": [
    "# Create a new column with information if the house has already been renovated or not.\n",
    "houses_wo['Renovated'] = 'No' \n",
    "houses_wo.loc[ houses_wo['Year Renovated'] != 0, 'Renovated'] = 'Yes'"
   ]
  },
  {
   "cell_type": "code",
   "execution_count": 81,
   "metadata": {},
   "outputs": [
    {
     "name": "stdout",
     "output_type": "stream",
     "text": [
      "Avarage price of renovated houses $ 651781.50\n",
      "Average price of unrenovated houses $ 503012.30\n",
      "The difference is $ 148769.2, acress of 22.83%\n"
     ]
    }
   ],
   "source": [
    "renovated_comparation = houses_wo[['Price','Renovated']].groupby('Renovated').mean().reset_index().round(1) \n",
    "print('Avarage price of renovated houses $ {:.2f}'.format(renovated_comparation.iloc[1,1]))\n",
    "print('Average price of unrenovated houses $ {:.2f}'.format(renovated_comparation.iloc[0,1]))\n",
    "print('The difference is $ {}, acress of {:.2f}%'.format(\n",
    "    renovated_comparation.iloc[1,1] - renovated_comparation.iloc[0,1],\n",
    "    (((renovated_comparation.iloc[1,1] - renovated_comparation.iloc[0,1]) * 100) / renovated_comparation.iloc[1,1])\n",
    "))"
   ]
  },
  {
   "cell_type": "markdown",
   "metadata": {},
   "source": [
    "After seeing the margin of price difference between renovated and unrenovated homes, it is clear that renovated homes have a higher average and median price, in both cases an increase of approximately 20% on the price.\n",
    "\n",
    "Now let's see which attributes are most important to renovate the house."
   ]
  },
  {
   "cell_type": "code",
   "execution_count": 84,
   "metadata": {},
   "outputs": [
    {
     "name": "stderr",
     "output_type": "stream",
     "text": [
      "/tmp/ipykernel_1097/103306110.py:1: FutureWarning: The default value of numeric_only in DataFrame.corr is deprecated. In a future version, it will default to False. Select only valid columns or specify the value of numeric_only to silence this warning.\n",
      "  corr = houses_wo.loc[houses_wo['Renovated'] != 0].corr()\n"
     ]
    },
    {
     "data": {
      "text/html": [
       "<div>\n",
       "<style scoped>\n",
       "    .dataframe tbody tr th:only-of-type {\n",
       "        vertical-align: middle;\n",
       "    }\n",
       "\n",
       "    .dataframe tbody tr th {\n",
       "        vertical-align: top;\n",
       "    }\n",
       "\n",
       "    .dataframe thead th {\n",
       "        text-align: right;\n",
       "    }\n",
       "</style>\n",
       "<table border=\"1\" class=\"dataframe\">\n",
       "  <thead>\n",
       "    <tr style=\"text-align: right;\">\n",
       "      <th></th>\n",
       "      <th>index</th>\n",
       "      <th>Price</th>\n",
       "    </tr>\n",
       "  </thead>\n",
       "  <tbody>\n",
       "    <tr>\n",
       "      <th>0</th>\n",
       "      <td>Grade</td>\n",
       "      <td>0.673951</td>\n",
       "    </tr>\n",
       "    <tr>\n",
       "      <th>1</th>\n",
       "      <td>Sqft Living</td>\n",
       "      <td>0.669080</td>\n",
       "    </tr>\n",
       "    <tr>\n",
       "      <th>2</th>\n",
       "      <td>Sqft Living 15</td>\n",
       "      <td>0.598269</td>\n",
       "    </tr>\n",
       "    <tr>\n",
       "      <th>3</th>\n",
       "      <td>Sqft Above</td>\n",
       "      <td>0.570982</td>\n",
       "    </tr>\n",
       "    <tr>\n",
       "      <th>4</th>\n",
       "      <td>Bathrooms</td>\n",
       "      <td>0.497622</td>\n",
       "    </tr>\n",
       "    <tr>\n",
       "      <th>5</th>\n",
       "      <td>Latitude</td>\n",
       "      <td>0.381467</td>\n",
       "    </tr>\n",
       "    <tr>\n",
       "      <th>6</th>\n",
       "      <td>View</td>\n",
       "      <td>0.324330</td>\n",
       "    </tr>\n",
       "    <tr>\n",
       "      <th>7</th>\n",
       "      <td>Bedrooms</td>\n",
       "      <td>0.313093</td>\n",
       "    </tr>\n",
       "    <tr>\n",
       "      <th>8</th>\n",
       "      <td>Sqft Basement</td>\n",
       "      <td>0.282128</td>\n",
       "    </tr>\n",
       "    <tr>\n",
       "      <th>9</th>\n",
       "      <td>Floors</td>\n",
       "      <td>0.277596</td>\n",
       "    </tr>\n",
       "    <tr>\n",
       "      <th>10</th>\n",
       "      <td>Year Renovated</td>\n",
       "      <td>0.111432</td>\n",
       "    </tr>\n",
       "    <tr>\n",
       "      <th>11</th>\n",
       "      <td>Waterfront</td>\n",
       "      <td>0.111261</td>\n",
       "    </tr>\n",
       "    <tr>\n",
       "      <th>12</th>\n",
       "      <td>Sqft Lot</td>\n",
       "      <td>0.095190</td>\n",
       "    </tr>\n",
       "    <tr>\n",
       "      <th>13</th>\n",
       "      <td>Sqft Lot 15</td>\n",
       "      <td>0.089356</td>\n",
       "    </tr>\n",
       "    <tr>\n",
       "      <th>14</th>\n",
       "      <td>Year Built</td>\n",
       "      <td>0.060906</td>\n",
       "    </tr>\n",
       "    <tr>\n",
       "      <th>15</th>\n",
       "      <td>Longitude</td>\n",
       "      <td>0.045860</td>\n",
       "    </tr>\n",
       "    <tr>\n",
       "      <th>16</th>\n",
       "      <td>Condition</td>\n",
       "      <td>0.039280</td>\n",
       "    </tr>\n",
       "    <tr>\n",
       "      <th>17</th>\n",
       "      <td>ID</td>\n",
       "      <td>-0.003901</td>\n",
       "    </tr>\n",
       "    <tr>\n",
       "      <th>18</th>\n",
       "      <td>ZipCode</td>\n",
       "      <td>-0.035342</td>\n",
       "    </tr>\n",
       "  </tbody>\n",
       "</table>\n",
       "</div>"
      ],
      "text/plain": [
       "             index     Price\n",
       "0            Grade  0.673951\n",
       "1      Sqft Living  0.669080\n",
       "2   Sqft Living 15  0.598269\n",
       "3       Sqft Above  0.570982\n",
       "4        Bathrooms  0.497622\n",
       "5         Latitude  0.381467\n",
       "6             View  0.324330\n",
       "7         Bedrooms  0.313093\n",
       "8    Sqft Basement  0.282128\n",
       "9           Floors  0.277596\n",
       "10  Year Renovated  0.111432\n",
       "11      Waterfront  0.111261\n",
       "12        Sqft Lot  0.095190\n",
       "13     Sqft Lot 15  0.089356\n",
       "14      Year Built  0.060906\n",
       "15       Longitude  0.045860\n",
       "16       Condition  0.039280\n",
       "17              ID -0.003901\n",
       "18         ZipCode -0.035342"
      ]
     },
     "execution_count": 84,
     "metadata": {},
     "output_type": "execute_result"
    }
   ],
   "source": [
    "corr = houses_wo.loc[houses_wo['Renovated'] != 0].corr()\n",
    "corr['Price'].sort_values(ascending=False).iloc[1:].reset_index()"
   ]
  },
  {
   "cell_type": "markdown",
   "metadata": {},
   "source": [
    "The attributes that have a high positive correlation with the price of renovated homes is the Living Square Foot and the number of bathrooms. In my option, the best decision to renovate the houses would be to build a new bathroom as a new addition to the house, increasing the number of bathrooms in the house and the Square Foot of the house itself.\n",
    "\n",
    "According [Home Guide](homeguide.com), the construction of a bathroom as a new addition costs on average $22,000. A high price, but as seen, the average price of a renovated house can be up to 22% higher than an unrenovated house.\n",
    "\n",
    "---"
   ]
  },
  {
   "cell_type": "markdown",
   "metadata": {},
   "source": [
    "Now let's add two new columns to our dataset:\n",
    "1. \"Renovation Sale Price\": contains the recommended selling price of the home after renovation.\n",
    "1. \"Profit Renovation\": contains the profit of renovated houses."
   ]
  },
  {
   "cell_type": "code",
   "execution_count": 89,
   "metadata": {},
   "outputs": [],
   "source": [
    "houses['Renovation Sale Price'] = (houses['Sale Price'] * 1.20).round(1) # The recommended sale price of renovated houses will be 120% of the sale price of unrenovated houses.\n",
    "houses['Profit Renovation'] = (houses['Renovation Sale Price'] - houses['Price']).round(1)\n",
    "houses = houses.round(1) # Revmoce scientific notation\n",
    "\n",
    "houses.to_parquet(os.path.join(abs_path_to_folder, \"../reports/data/final_houses_sale.parquet\"), index=False) # Save dataset"
   ]
  },
  {
   "cell_type": "markdown",
   "metadata": {},
   "source": [
    "Now, the final dataset will look like:"
   ]
  },
  {
   "cell_type": "code",
   "execution_count": 90,
   "metadata": {},
   "outputs": [
    {
     "data": {
      "text/html": [
       "<div>\n",
       "<style scoped>\n",
       "    .dataframe tbody tr th:only-of-type {\n",
       "        vertical-align: middle;\n",
       "    }\n",
       "\n",
       "    .dataframe tbody tr th {\n",
       "        vertical-align: top;\n",
       "    }\n",
       "\n",
       "    .dataframe thead th {\n",
       "        text-align: right;\n",
       "    }\n",
       "</style>\n",
       "<table border=\"1\" class=\"dataframe\">\n",
       "  <thead>\n",
       "    <tr style=\"text-align: right;\">\n",
       "      <th></th>\n",
       "      <th>ID</th>\n",
       "      <th>Price</th>\n",
       "      <th>Status</th>\n",
       "      <th>Median Price ZipCode</th>\n",
       "      <th>Season</th>\n",
       "      <th>Median Price Season</th>\n",
       "      <th>Total Avarage Price</th>\n",
       "      <th>Sale Price</th>\n",
       "      <th>Profit</th>\n",
       "      <th>Renovation Sale Price</th>\n",
       "      <th>Profit Renovation</th>\n",
       "    </tr>\n",
       "  </thead>\n",
       "  <tbody>\n",
       "    <tr>\n",
       "      <th>0</th>\n",
       "      <td>3810000860</td>\n",
       "      <td>240000.0</td>\n",
       "      <td>Buy</td>\n",
       "      <td>278277.0</td>\n",
       "      <td>Summer</td>\n",
       "      <td>511177.0</td>\n",
       "      <td>394727.0</td>\n",
       "      <td>312000.0</td>\n",
       "      <td>72000.0</td>\n",
       "      <td>374400.0</td>\n",
       "      <td>134400.0</td>\n",
       "    </tr>\n",
       "    <tr>\n",
       "      <th>1</th>\n",
       "      <td>3348401490</td>\n",
       "      <td>265000.0</td>\n",
       "      <td>Buy</td>\n",
       "      <td>278277.0</td>\n",
       "      <td>Summer</td>\n",
       "      <td>511177.0</td>\n",
       "      <td>394727.0</td>\n",
       "      <td>344500.0</td>\n",
       "      <td>79500.0</td>\n",
       "      <td>413400.0</td>\n",
       "      <td>148400.0</td>\n",
       "    </tr>\n",
       "    <tr>\n",
       "      <th>2</th>\n",
       "      <td>3992700036</td>\n",
       "      <td>415000.0</td>\n",
       "      <td>Buy</td>\n",
       "      <td>425000.0</td>\n",
       "      <td>Summer</td>\n",
       "      <td>511177.0</td>\n",
       "      <td>468088.5</td>\n",
       "      <td>539500.0</td>\n",
       "      <td>124500.0</td>\n",
       "      <td>647400.0</td>\n",
       "      <td>232400.0</td>\n",
       "    </tr>\n",
       "    <tr>\n",
       "      <th>3</th>\n",
       "      <td>2926049449</td>\n",
       "      <td>384400.0</td>\n",
       "      <td>Buy</td>\n",
       "      <td>425000.0</td>\n",
       "      <td>Summer</td>\n",
       "      <td>511177.0</td>\n",
       "      <td>468088.5</td>\n",
       "      <td>499720.0</td>\n",
       "      <td>115320.0</td>\n",
       "      <td>599664.0</td>\n",
       "      <td>215264.0</td>\n",
       "    </tr>\n",
       "    <tr>\n",
       "      <th>4</th>\n",
       "      <td>1787600165</td>\n",
       "      <td>396500.0</td>\n",
       "      <td>Buy</td>\n",
       "      <td>425000.0</td>\n",
       "      <td>Summer</td>\n",
       "      <td>511177.0</td>\n",
       "      <td>468088.5</td>\n",
       "      <td>515450.0</td>\n",
       "      <td>118950.0</td>\n",
       "      <td>618540.0</td>\n",
       "      <td>222040.0</td>\n",
       "    </tr>\n",
       "  </tbody>\n",
       "</table>\n",
       "</div>"
      ],
      "text/plain": [
       "           ID     Price Status  Median Price ZipCode  Season  \\\n",
       "0  3810000860  240000.0    Buy              278277.0  Summer   \n",
       "1  3348401490  265000.0    Buy              278277.0  Summer   \n",
       "2  3992700036  415000.0    Buy              425000.0  Summer   \n",
       "3  2926049449  384400.0    Buy              425000.0  Summer   \n",
       "4  1787600165  396500.0    Buy              425000.0  Summer   \n",
       "\n",
       "   Median Price Season  Total Avarage Price  Sale Price    Profit  \\\n",
       "0             511177.0             394727.0    312000.0   72000.0   \n",
       "1             511177.0             394727.0    344500.0   79500.0   \n",
       "2             511177.0             468088.5    539500.0  124500.0   \n",
       "3             511177.0             468088.5    499720.0  115320.0   \n",
       "4             511177.0             468088.5    515450.0  118950.0   \n",
       "\n",
       "   Renovation Sale Price  Profit Renovation  \n",
       "0               374400.0           134400.0  \n",
       "1               413400.0           148400.0  \n",
       "2               647400.0           232400.0  \n",
       "3               599664.0           215264.0  \n",
       "4               618540.0           222040.0  "
      ]
     },
     "execution_count": 90,
     "metadata": {},
     "output_type": "execute_result"
    }
   ],
   "source": [
    "houses[[\"ID\", \"Price\", \"Status\", \"Median Price ZipCode\", \"Season\", \"Median Price Season\", \"Total Avarage Price\", \"Sale Price\", \"Profit\", \"Renovation Sale Price\", \"Profit Renovation\"]].head()"
   ]
  }
 ],
 "metadata": {
  "interpreter": {
   "hash": "f011619db51c25f3aadddce8215989e6867f0fe32340c316562ac6cb03ba2b4c"
  },
  "kernelspec": {
   "display_name": "Python 3 (ipykernel)",
   "language": "python",
   "name": "python3"
  },
  "language_info": {
   "codemirror_mode": {
    "name": "ipython",
    "version": 3
   },
   "file_extension": ".py",
   "mimetype": "text/x-python",
   "name": "python",
   "nbconvert_exporter": "python",
   "pygments_lexer": "ipython3",
   "version": "3.10.6"
  }
 },
 "nbformat": 4,
 "nbformat_minor": 2
}
