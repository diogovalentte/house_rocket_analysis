{
 "cells": [
  {
   "attachments": {},
   "cell_type": "markdown",
   "metadata": {},
   "source": [
    "# Create and answer our own hypotheses\n",
    "\n",
    "In this section, we will create and answer our own hypotheses based on our knowledge of the dataset."
   ]
  },
  {
   "cell_type": "code",
   "execution_count": 92,
   "metadata": {},
   "outputs": [],
   "source": [
    "import os\n",
    "import pandas as pd\n",
    "from notebooks.get_local_folder import get_local_folder"
   ]
  },
  {
   "cell_type": "code",
   "execution_count": 93,
   "metadata": {},
   "outputs": [],
   "source": [
    "# Load data\n",
    "abs_path_to_folder = get_local_folder()\n",
    "dataset_path = os.path.join(abs_path_to_folder, \"../data/cleaned/houses_data.parquet\")\n",
    "houses = pd.read_parquet(dataset_path)\n",
    "houses_wo = pd.read_parquet(os.path.join(abs_path_to_folder, \"../data/without_outliers/houses_without_outliers.parquet\"))"
   ]
  },
  {
   "cell_type": "markdown",
   "metadata": {},
   "source": [
    "## Hypothesis 1: The season when most homes became available for purchase was spring.\n",
    "\n",
    "#### Answer: Yes, the spring season had 6520 homes available. That may be why the average house price announced in the spring is the highest."
   ]
  },
  {
   "cell_type": "code",
   "execution_count": 94,
   "metadata": {},
   "outputs": [
    {
     "name": "stderr",
     "output_type": "stream",
     "text": [
      "/tmp/ipykernel_1097/2119098432.py:6: UserWarning: Parsing dates in DD/MM/YYYY format when dayfirst=False (the default) was specified. This may lead to inconsistently parsed dates! Specify a format to ensure consistent parsing.\n",
      "  df['Month'] = pd.to_datetime(df['Date']).dt.strftime('%m')\n"
     ]
    },
    {
     "data": {
      "text/plain": [
       "Summer    6077\n",
       "Spring    6075\n",
       "Fall      5317\n",
       "Winter    4144\n",
       "Name: Season, dtype: int64"
      ]
     },
     "execution_count": 94,
     "metadata": {},
     "output_type": "execute_result"
    }
   ],
   "source": [
    "def create_season_column(df: pd.DataFrame):\n",
    "    \"\"\"Create a new colunm named \"Season\", which contains the season based in the \"Date\" colunm\"\"\"\n",
    "    import pandas as pd\n",
    "    import numpy as np\n",
    "\n",
    "    df['Month'] = pd.to_datetime(df['Date']).dt.strftime('%m')\n",
    "    df['Month'] = df['Month'].astype(np.int64)\n",
    "\n",
    "\n",
    "    df['Season'] = 'Winter'\n",
    "    df.loc[(df['Month'] >= 3) & (df['Month'] < 6), 'Season'] = 'Spring'\n",
    "    df.loc[(df['Month'] >= 6) & (df['Month'] < 9), 'Season'] = 'Summer'\n",
    "    df.loc[(df['Month'] >= 9) & (df['Month'] < 12), 'Season'] = 'Fall'\n",
    "\n",
    "    return df.drop(columns=\"Month\")\n",
    "\n",
    "houses = create_season_column(houses.copy())\n",
    "houses['Season'].value_counts()"
   ]
  },
  {
   "attachments": {},
   "cell_type": "markdown",
   "metadata": {},
   "source": [
    "## Hypothesis 2: Houses overlooking the water are more expensive. \n",
    "\n",
    "#### Answer: Yes, houses overlooking the sea are 53% more expensive."
   ]
  },
  {
   "cell_type": "code",
   "execution_count": 96,
   "metadata": {},
   "outputs": [
    {
     "name": "stdout",
     "output_type": "stream",
     "text": [
      "Houses with water view are 53.79% more expansive.\n"
     ]
    }
   ],
   "source": [
    "waterview_price = houses_wo[['Price','Waterfront']].groupby('Waterfront').mean().reset_index().round(1)\n",
    "\n",
    "print('Houses with water view are {:.2f}% more expansive.'.format(\n",
    "( waterview_price.iloc[0,1] * 100 ) / waterview_price.iloc[1,1] ) )"
   ]
  },
  {
   "attachments": {},
   "cell_type": "markdown",
   "metadata": {},
   "source": [
    "## Hypothesis 3: Only 10% of homes have been renovated.\n",
    "\n",
    "#### Answer: No, only 4.42% of homes have been renovated."
   ]
  },
  {
   "cell_type": "code",
   "execution_count": 95,
   "metadata": {},
   "outputs": [
    {
     "name": "stdout",
     "output_type": "stream",
     "text": [
      "Only 4.21% of houses have already been renovated.\n"
     ]
    }
   ],
   "source": [
    "houses_wo['Renovated'] = 'No' \n",
    "houses_wo.loc[ houses_wo['Year Renovated'] != 0, 'Renovated'] = 'Yes'\n",
    "renovated_count = houses_wo['Renovated'].value_counts()\n",
    "\n",
    "print('Only {:.2f}% of houses have already been renovated.'.format(\n",
    "(renovated_count.iloc[1] * 100 ) / renovated_count.iloc[0]))"
   ]
  }
 ],
 "metadata": {
  "interpreter": {
   "hash": "31f2aee4e71d21fbe5cf8b01ff0e069b9275f58929596ceb00d14d90e3e16cd6"
  },
  "kernelspec": {
   "display_name": "Python 3 (ipykernel)",
   "language": "python",
   "name": "python3"
  },
  "language_info": {
   "codemirror_mode": {
    "name": "ipython",
    "version": 3
   },
   "file_extension": ".py",
   "mimetype": "text/x-python",
   "name": "python",
   "nbconvert_exporter": "python",
   "pygments_lexer": "ipython3",
   "version": "3.10.6"
  }
 },
 "nbformat": 4,
 "nbformat_minor": 2
}
